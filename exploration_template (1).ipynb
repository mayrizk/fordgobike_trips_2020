{
 "cells": [
  {
   "cell_type": "markdown",
   "metadata": {},
   "source": [
    "#  Bay Wheels Ride Data Exploration and Visualization\n",
    "## by Mai Rezk\n",
    "### introduction about the data set \n",
    "This data set includes information about individual rides made\n",
    "in a bike-sharing system covering the greater San Francisco\n",
    "Bay area.\n",
    "in specific New York City, NY ('https://s3.amazonaws.com/tripdata/index.html')\n",
    "for the year 2020 which can give us an intersten ininsights in the year of global pandemic (covid19) and quarantine how does that affect the whole bike sharing sysytem \n",
    "(https://www.citibikenyc.com/system-data)\n",
    "\n",
    "## Preliminary Wrangling\n",
    "\n"
   ]
  },
  {
   "cell_type": "code",
   "execution_count": 1,
   "metadata": {},
   "outputs": [],
   "source": [
    "# import all packages and set plots to be embedded inline\n",
    "import numpy as np\n",
    "import pandas as pd\n",
    "import matplotlib.pyplot as plt\n",
    "import seaborn as sb\n",
    "import os\n",
    "import glob\n",
    "\n",
    "%matplotlib inline"
   ]
  },
  {
   "cell_type": "markdown",
   "metadata": {},
   "source": [
    "### loading the data  and Data Wrangling"
   ]
  },
  {
   "cell_type": "code",
   "execution_count": 2,
   "metadata": {},
   "outputs": [],
   "source": [
    "# get data file names\n",
    "path = r'Dataset' \n",
    "all_files = glob.glob(path + \"/*.csv\")\n",
    "\n",
    "li = []\n",
    "\n",
    "for filename in all_files:\n",
    "    df = pd.read_csv(filename, index_col=None, header=0)\n",
    "    li.append(df)\n",
    "\n",
    "frame = pd.concat(li, axis=0, ignore_index=True)"
   ]
  },
  {
   "cell_type": "code",
   "execution_count": 3,
   "metadata": {},
   "outputs": [
    {
     "data": {
      "text/html": [
       "<div>\n",
       "<style scoped>\n",
       "    .dataframe tbody tr th:only-of-type {\n",
       "        vertical-align: middle;\n",
       "    }\n",
       "\n",
       "    .dataframe tbody tr th {\n",
       "        vertical-align: top;\n",
       "    }\n",
       "\n",
       "    .dataframe thead th {\n",
       "        text-align: right;\n",
       "    }\n",
       "</style>\n",
       "<table border=\"1\" class=\"dataframe\">\n",
       "  <thead>\n",
       "    <tr style=\"text-align: right;\">\n",
       "      <th></th>\n",
       "      <th>tripduration</th>\n",
       "      <th>starttime</th>\n",
       "      <th>stoptime</th>\n",
       "      <th>start station id</th>\n",
       "      <th>start station name</th>\n",
       "      <th>start station latitude</th>\n",
       "      <th>start station longitude</th>\n",
       "      <th>end station id</th>\n",
       "      <th>end station name</th>\n",
       "      <th>end station latitude</th>\n",
       "      <th>end station longitude</th>\n",
       "      <th>bikeid</th>\n",
       "      <th>usertype</th>\n",
       "      <th>birth year</th>\n",
       "      <th>gender</th>\n",
       "    </tr>\n",
       "  </thead>\n",
       "  <tbody>\n",
       "    <tr>\n",
       "      <th>0</th>\n",
       "      <td>146</td>\n",
       "      <td>2020-12-01 00:02:50.1450</td>\n",
       "      <td>2020-12-01 00:05:16.1940</td>\n",
       "      <td>3202</td>\n",
       "      <td>Newport PATH</td>\n",
       "      <td>40.727224</td>\n",
       "      <td>-74.033759</td>\n",
       "      <td>3199</td>\n",
       "      <td>Newport Pkwy</td>\n",
       "      <td>40.728745</td>\n",
       "      <td>-74.032108</td>\n",
       "      <td>42308</td>\n",
       "      <td>Subscriber</td>\n",
       "      <td>1989</td>\n",
       "      <td>2</td>\n",
       "    </tr>\n",
       "    <tr>\n",
       "      <th>1</th>\n",
       "      <td>572</td>\n",
       "      <td>2020-12-01 00:11:57.3910</td>\n",
       "      <td>2020-12-01 00:21:30.2510</td>\n",
       "      <td>3640</td>\n",
       "      <td>Journal Square</td>\n",
       "      <td>40.733670</td>\n",
       "      <td>-74.062500</td>\n",
       "      <td>3280</td>\n",
       "      <td>Astor Place</td>\n",
       "      <td>40.719282</td>\n",
       "      <td>-74.071262</td>\n",
       "      <td>18568</td>\n",
       "      <td>Subscriber</td>\n",
       "      <td>1997</td>\n",
       "      <td>2</td>\n",
       "    </tr>\n",
       "    <tr>\n",
       "      <th>2</th>\n",
       "      <td>387</td>\n",
       "      <td>2020-12-01 00:14:49.3610</td>\n",
       "      <td>2020-12-01 00:21:16.8730</td>\n",
       "      <td>3640</td>\n",
       "      <td>Journal Square</td>\n",
       "      <td>40.733670</td>\n",
       "      <td>-74.062500</td>\n",
       "      <td>3194</td>\n",
       "      <td>McGinley Square</td>\n",
       "      <td>40.725340</td>\n",
       "      <td>-74.067622</td>\n",
       "      <td>44543</td>\n",
       "      <td>Subscriber</td>\n",
       "      <td>1960</td>\n",
       "      <td>1</td>\n",
       "    </tr>\n",
       "    <tr>\n",
       "      <th>3</th>\n",
       "      <td>188</td>\n",
       "      <td>2020-12-01 00:45:06.3680</td>\n",
       "      <td>2020-12-01 00:48:14.4280</td>\n",
       "      <td>3186</td>\n",
       "      <td>Grove St PATH</td>\n",
       "      <td>40.719586</td>\n",
       "      <td>-74.043117</td>\n",
       "      <td>3270</td>\n",
       "      <td>Jersey &amp; 6th St</td>\n",
       "      <td>40.725289</td>\n",
       "      <td>-74.045572</td>\n",
       "      <td>43098</td>\n",
       "      <td>Subscriber</td>\n",
       "      <td>1998</td>\n",
       "      <td>1</td>\n",
       "    </tr>\n",
       "    <tr>\n",
       "      <th>4</th>\n",
       "      <td>594</td>\n",
       "      <td>2020-12-01 01:17:17.0110</td>\n",
       "      <td>2020-12-01 01:27:11.9400</td>\n",
       "      <td>3212</td>\n",
       "      <td>Christ Hospital</td>\n",
       "      <td>40.734786</td>\n",
       "      <td>-74.050444</td>\n",
       "      <td>3209</td>\n",
       "      <td>Brunswick St</td>\n",
       "      <td>40.724176</td>\n",
       "      <td>-74.050656</td>\n",
       "      <td>44723</td>\n",
       "      <td>Subscriber</td>\n",
       "      <td>1988</td>\n",
       "      <td>1</td>\n",
       "    </tr>\n",
       "  </tbody>\n",
       "</table>\n",
       "</div>"
      ],
      "text/plain": [
       "   tripduration                 starttime                  stoptime  \\\n",
       "0           146  2020-12-01 00:02:50.1450  2020-12-01 00:05:16.1940   \n",
       "1           572  2020-12-01 00:11:57.3910  2020-12-01 00:21:30.2510   \n",
       "2           387  2020-12-01 00:14:49.3610  2020-12-01 00:21:16.8730   \n",
       "3           188  2020-12-01 00:45:06.3680  2020-12-01 00:48:14.4280   \n",
       "4           594  2020-12-01 01:17:17.0110  2020-12-01 01:27:11.9400   \n",
       "\n",
       "   start station id start station name  start station latitude  \\\n",
       "0              3202       Newport PATH               40.727224   \n",
       "1              3640     Journal Square               40.733670   \n",
       "2              3640     Journal Square               40.733670   \n",
       "3              3186      Grove St PATH               40.719586   \n",
       "4              3212    Christ Hospital               40.734786   \n",
       "\n",
       "   start station longitude  end station id end station name  \\\n",
       "0               -74.033759            3199     Newport Pkwy   \n",
       "1               -74.062500            3280      Astor Place   \n",
       "2               -74.062500            3194  McGinley Square   \n",
       "3               -74.043117            3270  Jersey & 6th St   \n",
       "4               -74.050444            3209     Brunswick St   \n",
       "\n",
       "   end station latitude  end station longitude  bikeid    usertype  \\\n",
       "0             40.728745             -74.032108   42308  Subscriber   \n",
       "1             40.719282             -74.071262   18568  Subscriber   \n",
       "2             40.725340             -74.067622   44543  Subscriber   \n",
       "3             40.725289             -74.045572   43098  Subscriber   \n",
       "4             40.724176             -74.050656   44723  Subscriber   \n",
       "\n",
       "   birth year  gender  \n",
       "0        1989       2  \n",
       "1        1997       2  \n",
       "2        1960       1  \n",
       "3        1998       1  \n",
       "4        1988       1  "
      ]
     },
     "execution_count": 3,
     "metadata": {},
     "output_type": "execute_result"
    }
   ],
   "source": [
    "df.head()"
   ]
  },
  {
   "cell_type": "code",
   "execution_count": 4,
   "metadata": {},
   "outputs": [
    {
     "name": "stdout",
     "output_type": "stream",
     "text": [
      "<class 'pandas.core.frame.DataFrame'>\n",
      "RangeIndex: 11694 entries, 0 to 11693\n",
      "Data columns (total 15 columns):\n",
      " #   Column                   Non-Null Count  Dtype  \n",
      "---  ------                   --------------  -----  \n",
      " 0   tripduration             11694 non-null  int64  \n",
      " 1   starttime                11694 non-null  object \n",
      " 2   stoptime                 11694 non-null  object \n",
      " 3   start station id         11694 non-null  int64  \n",
      " 4   start station name       11694 non-null  object \n",
      " 5   start station latitude   11694 non-null  float64\n",
      " 6   start station longitude  11694 non-null  float64\n",
      " 7   end station id           11694 non-null  int64  \n",
      " 8   end station name         11694 non-null  object \n",
      " 9   end station latitude     11694 non-null  float64\n",
      " 10  end station longitude    11694 non-null  float64\n",
      " 11  bikeid                   11694 non-null  int64  \n",
      " 12  usertype                 11694 non-null  object \n",
      " 13  birth year               11694 non-null  int64  \n",
      " 14  gender                   11694 non-null  int64  \n",
      "dtypes: float64(4), int64(6), object(5)\n",
      "memory usage: 1.3+ MB\n"
     ]
    }
   ],
   "source": [
    "df.info()"
   ]
  },
  {
   "cell_type": "markdown",
   "metadata": {},
   "source": [
    "We can see that the number of this year rides comparing two 2018 from the last submit is significantly smalie and that due to covid19 and the quarantine"
   ]
  },
  {
   "cell_type": "code",
   "execution_count": 5,
   "metadata": {},
   "outputs": [
    {
     "data": {
      "text/plain": [
       "tripduration               0\n",
       "starttime                  0\n",
       "stoptime                   0\n",
       "start station id           0\n",
       "start station name         0\n",
       "start station latitude     0\n",
       "start station longitude    0\n",
       "end station id             0\n",
       "end station name           0\n",
       "end station latitude       0\n",
       "end station longitude      0\n",
       "bikeid                     0\n",
       "usertype                   0\n",
       "birth year                 0\n",
       "gender                     0\n",
       "dtype: int64"
      ]
     },
     "execution_count": 5,
     "metadata": {},
     "output_type": "execute_result"
    }
   ],
   "source": [
    "df.isnull().sum()\n",
    "# no null values "
   ]
  },
  {
   "cell_type": "code",
   "execution_count": 6,
   "metadata": {},
   "outputs": [
    {
     "data": {
      "text/plain": [
       "0"
      ]
     },
     "execution_count": 6,
     "metadata": {},
     "output_type": "execute_result"
    }
   ],
   "source": [
    "df.duplicated().sum()\n",
    "# no"
   ]
  },
  {
   "cell_type": "code",
   "execution_count": null,
   "metadata": {},
   "outputs": [],
   "source": []
  },
  {
   "cell_type": "code",
   "execution_count": 7,
   "metadata": {},
   "outputs": [],
   "source": [
    "# data asseting \n",
    "# from the df we have 3 categorical data "
   ]
  },
  {
   "cell_type": "code",
   "execution_count": 8,
   "metadata": {},
   "outputs": [
    {
     "data": {
      "text/plain": [
       "1    7765\n",
       "2    2568\n",
       "0    1361\n",
       "Name: gender, dtype: int64"
      ]
     },
     "execution_count": 8,
     "metadata": {},
     "output_type": "execute_result"
    }
   ],
   "source": [
    "df.gender.value_counts()"
   ]
  },
  {
   "cell_type": "code",
   "execution_count": 9,
   "metadata": {},
   "outputs": [
    {
     "data": {
      "text/plain": [
       "Subscriber    9404\n",
       "Customer      2290\n",
       "Name: usertype, dtype: int64"
      ]
     },
     "execution_count": 9,
     "metadata": {},
     "output_type": "execute_result"
    }
   ],
   "source": [
    "df.usertype.value_counts()"
   ]
  },
  {
   "cell_type": "markdown",
   "metadata": {},
   "source": [
    "###  Data Cleaning\n"
   ]
  },
  {
   "cell_type": "code",
   "execution_count": 10,
   "metadata": {},
   "outputs": [
    {
     "name": "stdout",
     "output_type": "stream",
     "text": [
      "<class 'pandas.core.frame.DataFrame'>\n",
      "RangeIndex: 11694 entries, 0 to 11693\n",
      "Data columns (total 15 columns):\n",
      " #   Column                   Non-Null Count  Dtype  \n",
      "---  ------                   --------------  -----  \n",
      " 0   tripduration             11694 non-null  int64  \n",
      " 1   starttime                11694 non-null  object \n",
      " 2   stoptime                 11694 non-null  object \n",
      " 3   start station id         11694 non-null  int64  \n",
      " 4   start station name       11694 non-null  object \n",
      " 5   start station latitude   11694 non-null  float64\n",
      " 6   start station longitude  11694 non-null  float64\n",
      " 7   end station id           11694 non-null  int64  \n",
      " 8   end station name         11694 non-null  object \n",
      " 9   end station latitude     11694 non-null  float64\n",
      " 10  end station longitude    11694 non-null  float64\n",
      " 11  bikeid                   11694 non-null  int64  \n",
      " 12  usertype                 11694 non-null  object \n",
      " 13  birth year               11694 non-null  int64  \n",
      " 14  gender                   11694 non-null  int64  \n",
      "dtypes: float64(4), int64(6), object(5)\n",
      "memory usage: 1.3+ MB\n"
     ]
    }
   ],
   "source": [
    "df.info()"
   ]
  },
  {
   "cell_type": "code",
   "execution_count": 11,
   "metadata": {},
   "outputs": [
    {
     "data": {
      "text/plain": [
       "Index(['tripduration', 'starttime', 'stoptime', 'start station id',\n",
       "       'start station name', 'start station latitude',\n",
       "       'start station longitude', 'end station id', 'end station name',\n",
       "       'end station latitude', 'end station longitude', 'bikeid', 'usertype',\n",
       "       'birth year', 'gender'],\n",
       "      dtype='object')"
      ]
     },
     "execution_count": 11,
     "metadata": {},
     "output_type": "execute_result"
    }
   ],
   "source": [
    "df.columns"
   ]
  },
  {
   "cell_type": "code",
   "execution_count": 12,
   "metadata": {},
   "outputs": [],
   "source": [
    "# we need to fix starttime and end time formate \n",
    "# change start station name and end station name to string  \n",
    "# usertype and gender to catogircal "
   ]
  },
  {
   "cell_type": "code",
   "execution_count": 13,
   "metadata": {},
   "outputs": [],
   "source": [
    "# first lets copy the df \n",
    "df2=df.copy()"
   ]
  },
  {
   "cell_type": "code",
   "execution_count": 14,
   "metadata": {},
   "outputs": [],
   "source": [
    "# fix start and end time format \n",
    "\n",
    "df2['starttime'] = pd.to_datetime(df2['starttime'],format='%Y-%m-%d %H:%M:%S')\n",
    "df2['stoptime'] = pd.to_datetime(df2['stoptime'],format='%Y-%m-%d %H:%M:%S')\n"
   ]
  },
  {
   "cell_type": "code",
   "execution_count": 15,
   "metadata": {},
   "outputs": [],
   "source": [
    "# extract the hours , days , months from the date fromat \n",
    "df2['start_hourofday'] = df2['starttime'].dt.strftime('%H')\n",
    "df2['start_day'] = df2['starttime'].dt.strftime('%A')\n",
    "df2['start_month'] = df2['starttime'].dt.strftime('%B')"
   ]
  },
  {
   "cell_type": "code",
   "execution_count": 16,
   "metadata": {},
   "outputs": [],
   "source": [
    "#we need to  specifying the type of Categorical data independent of the values, with categories and orderness "
   ]
  },
  {
   "cell_type": "code",
   "execution_count": 17,
   "metadata": {},
   "outputs": [],
   "source": [
    "days = pd.api.types.CategoricalDtype(categories=['Monday', 'Tuesday', 'Wednesday', 'Thursday', 'Friday', 'Saturday', 'Sunday'], ordered=True)\n",
    "df2['start_day']=df2['start_day'].astype(days)\n",
    "\n",
    "month = pd.api.types.CategoricalDtype(ordered=True, categories=['January', 'February', 'March', 'April', 'May', 'June', 'July', 'August', 'September', 'October', 'November', 'December'])\n",
    "df2['start_month'] = df2['start_month'].astype(month)"
   ]
  },
  {
   "cell_type": "code",
   "execution_count": 18,
   "metadata": {},
   "outputs": [
    {
     "data": {
      "text/html": [
       "<div>\n",
       "<style scoped>\n",
       "    .dataframe tbody tr th:only-of-type {\n",
       "        vertical-align: middle;\n",
       "    }\n",
       "\n",
       "    .dataframe tbody tr th {\n",
       "        vertical-align: top;\n",
       "    }\n",
       "\n",
       "    .dataframe thead th {\n",
       "        text-align: right;\n",
       "    }\n",
       "</style>\n",
       "<table border=\"1\" class=\"dataframe\">\n",
       "  <thead>\n",
       "    <tr style=\"text-align: right;\">\n",
       "      <th></th>\n",
       "      <th>tripduration</th>\n",
       "      <th>starttime</th>\n",
       "      <th>stoptime</th>\n",
       "      <th>start station id</th>\n",
       "      <th>start station name</th>\n",
       "      <th>start station latitude</th>\n",
       "      <th>start station longitude</th>\n",
       "      <th>end station id</th>\n",
       "      <th>end station name</th>\n",
       "      <th>end station latitude</th>\n",
       "      <th>end station longitude</th>\n",
       "      <th>bikeid</th>\n",
       "      <th>usertype</th>\n",
       "      <th>birth year</th>\n",
       "      <th>gender</th>\n",
       "      <th>start_hourofday</th>\n",
       "      <th>start_day</th>\n",
       "      <th>start_month</th>\n",
       "    </tr>\n",
       "  </thead>\n",
       "  <tbody>\n",
       "    <tr>\n",
       "      <th>0</th>\n",
       "      <td>146</td>\n",
       "      <td>2020-12-01 00:02:50.145</td>\n",
       "      <td>2020-12-01 00:05:16.194</td>\n",
       "      <td>3202</td>\n",
       "      <td>Newport PATH</td>\n",
       "      <td>40.727224</td>\n",
       "      <td>-74.033759</td>\n",
       "      <td>3199</td>\n",
       "      <td>Newport Pkwy</td>\n",
       "      <td>40.728745</td>\n",
       "      <td>-74.032108</td>\n",
       "      <td>42308</td>\n",
       "      <td>Subscriber</td>\n",
       "      <td>1989</td>\n",
       "      <td>2</td>\n",
       "      <td>00</td>\n",
       "      <td>Tuesday</td>\n",
       "      <td>December</td>\n",
       "    </tr>\n",
       "    <tr>\n",
       "      <th>1</th>\n",
       "      <td>572</td>\n",
       "      <td>2020-12-01 00:11:57.391</td>\n",
       "      <td>2020-12-01 00:21:30.251</td>\n",
       "      <td>3640</td>\n",
       "      <td>Journal Square</td>\n",
       "      <td>40.733670</td>\n",
       "      <td>-74.062500</td>\n",
       "      <td>3280</td>\n",
       "      <td>Astor Place</td>\n",
       "      <td>40.719282</td>\n",
       "      <td>-74.071262</td>\n",
       "      <td>18568</td>\n",
       "      <td>Subscriber</td>\n",
       "      <td>1997</td>\n",
       "      <td>2</td>\n",
       "      <td>00</td>\n",
       "      <td>Tuesday</td>\n",
       "      <td>December</td>\n",
       "    </tr>\n",
       "    <tr>\n",
       "      <th>2</th>\n",
       "      <td>387</td>\n",
       "      <td>2020-12-01 00:14:49.361</td>\n",
       "      <td>2020-12-01 00:21:16.873</td>\n",
       "      <td>3640</td>\n",
       "      <td>Journal Square</td>\n",
       "      <td>40.733670</td>\n",
       "      <td>-74.062500</td>\n",
       "      <td>3194</td>\n",
       "      <td>McGinley Square</td>\n",
       "      <td>40.725340</td>\n",
       "      <td>-74.067622</td>\n",
       "      <td>44543</td>\n",
       "      <td>Subscriber</td>\n",
       "      <td>1960</td>\n",
       "      <td>1</td>\n",
       "      <td>00</td>\n",
       "      <td>Tuesday</td>\n",
       "      <td>December</td>\n",
       "    </tr>\n",
       "    <tr>\n",
       "      <th>3</th>\n",
       "      <td>188</td>\n",
       "      <td>2020-12-01 00:45:06.368</td>\n",
       "      <td>2020-12-01 00:48:14.428</td>\n",
       "      <td>3186</td>\n",
       "      <td>Grove St PATH</td>\n",
       "      <td>40.719586</td>\n",
       "      <td>-74.043117</td>\n",
       "      <td>3270</td>\n",
       "      <td>Jersey &amp; 6th St</td>\n",
       "      <td>40.725289</td>\n",
       "      <td>-74.045572</td>\n",
       "      <td>43098</td>\n",
       "      <td>Subscriber</td>\n",
       "      <td>1998</td>\n",
       "      <td>1</td>\n",
       "      <td>00</td>\n",
       "      <td>Tuesday</td>\n",
       "      <td>December</td>\n",
       "    </tr>\n",
       "    <tr>\n",
       "      <th>4</th>\n",
       "      <td>594</td>\n",
       "      <td>2020-12-01 01:17:17.011</td>\n",
       "      <td>2020-12-01 01:27:11.940</td>\n",
       "      <td>3212</td>\n",
       "      <td>Christ Hospital</td>\n",
       "      <td>40.734786</td>\n",
       "      <td>-74.050444</td>\n",
       "      <td>3209</td>\n",
       "      <td>Brunswick St</td>\n",
       "      <td>40.724176</td>\n",
       "      <td>-74.050656</td>\n",
       "      <td>44723</td>\n",
       "      <td>Subscriber</td>\n",
       "      <td>1988</td>\n",
       "      <td>1</td>\n",
       "      <td>01</td>\n",
       "      <td>Tuesday</td>\n",
       "      <td>December</td>\n",
       "    </tr>\n",
       "  </tbody>\n",
       "</table>\n",
       "</div>"
      ],
      "text/plain": [
       "   tripduration               starttime                stoptime  \\\n",
       "0           146 2020-12-01 00:02:50.145 2020-12-01 00:05:16.194   \n",
       "1           572 2020-12-01 00:11:57.391 2020-12-01 00:21:30.251   \n",
       "2           387 2020-12-01 00:14:49.361 2020-12-01 00:21:16.873   \n",
       "3           188 2020-12-01 00:45:06.368 2020-12-01 00:48:14.428   \n",
       "4           594 2020-12-01 01:17:17.011 2020-12-01 01:27:11.940   \n",
       "\n",
       "   start station id start station name  start station latitude  \\\n",
       "0              3202       Newport PATH               40.727224   \n",
       "1              3640     Journal Square               40.733670   \n",
       "2              3640     Journal Square               40.733670   \n",
       "3              3186      Grove St PATH               40.719586   \n",
       "4              3212    Christ Hospital               40.734786   \n",
       "\n",
       "   start station longitude  end station id end station name  \\\n",
       "0               -74.033759            3199     Newport Pkwy   \n",
       "1               -74.062500            3280      Astor Place   \n",
       "2               -74.062500            3194  McGinley Square   \n",
       "3               -74.043117            3270  Jersey & 6th St   \n",
       "4               -74.050444            3209     Brunswick St   \n",
       "\n",
       "   end station latitude  end station longitude  bikeid    usertype  \\\n",
       "0             40.728745             -74.032108   42308  Subscriber   \n",
       "1             40.719282             -74.071262   18568  Subscriber   \n",
       "2             40.725340             -74.067622   44543  Subscriber   \n",
       "3             40.725289             -74.045572   43098  Subscriber   \n",
       "4             40.724176             -74.050656   44723  Subscriber   \n",
       "\n",
       "   birth year  gender start_hourofday start_day start_month  \n",
       "0        1989       2              00   Tuesday    December  \n",
       "1        1997       2              00   Tuesday    December  \n",
       "2        1960       1              00   Tuesday    December  \n",
       "3        1998       1              00   Tuesday    December  \n",
       "4        1988       1              01   Tuesday    December  "
      ]
     },
     "execution_count": 18,
     "metadata": {},
     "output_type": "execute_result"
    }
   ],
   "source": [
    "df2.head()"
   ]
  },
  {
   "cell_type": "code",
   "execution_count": 19,
   "metadata": {},
   "outputs": [],
   "source": [
    "# usertype and gender and start and end sation to catogircal \n",
    "df2['usertype'] = df2['usertype'].astype('category')\n",
    "df2['gender'] = df2['gender'].astype('category')\n",
    "df2['start station name']=df2['start station name'].astype('category')\n",
    "df2['end station name']=df2['end station name'].astype('category')\n"
   ]
  },
  {
   "cell_type": "code",
   "execution_count": 20,
   "metadata": {},
   "outputs": [],
   "source": [
    "# tripduration format to min instade of sec to be more infomative \n",
    "df2['tripduration']=df2['tripduration']/60\n",
    "\n"
   ]
  },
  {
   "cell_type": "code",
   "execution_count": 21,
   "metadata": {},
   "outputs": [],
   "source": [
    "# extract age from birth yearand add it as a new columns \n",
    "df2['user_age'] = 2021 - df2['birth year']"
   ]
  },
  {
   "cell_type": "code",
   "execution_count": 22,
   "metadata": {},
   "outputs": [
    {
     "data": {
      "text/plain": [
       "Index(['tripduration', 'starttime', 'stoptime', 'start station id',\n",
       "       'start station name', 'start station latitude',\n",
       "       'start station longitude', 'end station id', 'end station name',\n",
       "       'end station latitude', 'end station longitude', 'bikeid', 'usertype',\n",
       "       'birth year', 'gender', 'start_hourofday', 'start_day', 'start_month',\n",
       "       'user_age'],\n",
       "      dtype='object')"
      ]
     },
     "execution_count": 22,
     "metadata": {},
     "output_type": "execute_result"
    }
   ],
   "source": [
    "df2.columns"
   ]
  },
  {
   "cell_type": "code",
   "execution_count": 23,
   "metadata": {},
   "outputs": [
    {
     "data": {
      "text/html": [
       "<div>\n",
       "<style scoped>\n",
       "    .dataframe tbody tr th:only-of-type {\n",
       "        vertical-align: middle;\n",
       "    }\n",
       "\n",
       "    .dataframe tbody tr th {\n",
       "        vertical-align: top;\n",
       "    }\n",
       "\n",
       "    .dataframe thead th {\n",
       "        text-align: right;\n",
       "    }\n",
       "</style>\n",
       "<table border=\"1\" class=\"dataframe\">\n",
       "  <thead>\n",
       "    <tr style=\"text-align: right;\">\n",
       "      <th></th>\n",
       "      <th>tripduration</th>\n",
       "      <th>starttime</th>\n",
       "      <th>stoptime</th>\n",
       "      <th>start station id</th>\n",
       "      <th>start station name</th>\n",
       "      <th>start station latitude</th>\n",
       "      <th>start station longitude</th>\n",
       "      <th>end station id</th>\n",
       "      <th>end station name</th>\n",
       "      <th>end station latitude</th>\n",
       "      <th>end station longitude</th>\n",
       "      <th>bikeid</th>\n",
       "      <th>usertype</th>\n",
       "      <th>birth year</th>\n",
       "      <th>gender</th>\n",
       "      <th>start_hourofday</th>\n",
       "      <th>start_day</th>\n",
       "      <th>start_month</th>\n",
       "      <th>user_age</th>\n",
       "    </tr>\n",
       "  </thead>\n",
       "  <tbody>\n",
       "    <tr>\n",
       "      <th>0</th>\n",
       "      <td>2.433333</td>\n",
       "      <td>2020-12-01 00:02:50.145</td>\n",
       "      <td>2020-12-01 00:05:16.194</td>\n",
       "      <td>3202</td>\n",
       "      <td>Newport PATH</td>\n",
       "      <td>40.727224</td>\n",
       "      <td>-74.033759</td>\n",
       "      <td>3199</td>\n",
       "      <td>Newport Pkwy</td>\n",
       "      <td>40.728745</td>\n",
       "      <td>-74.032108</td>\n",
       "      <td>42308</td>\n",
       "      <td>Subscriber</td>\n",
       "      <td>1989</td>\n",
       "      <td>2</td>\n",
       "      <td>00</td>\n",
       "      <td>Tuesday</td>\n",
       "      <td>December</td>\n",
       "      <td>32</td>\n",
       "    </tr>\n",
       "    <tr>\n",
       "      <th>1</th>\n",
       "      <td>9.533333</td>\n",
       "      <td>2020-12-01 00:11:57.391</td>\n",
       "      <td>2020-12-01 00:21:30.251</td>\n",
       "      <td>3640</td>\n",
       "      <td>Journal Square</td>\n",
       "      <td>40.733670</td>\n",
       "      <td>-74.062500</td>\n",
       "      <td>3280</td>\n",
       "      <td>Astor Place</td>\n",
       "      <td>40.719282</td>\n",
       "      <td>-74.071262</td>\n",
       "      <td>18568</td>\n",
       "      <td>Subscriber</td>\n",
       "      <td>1997</td>\n",
       "      <td>2</td>\n",
       "      <td>00</td>\n",
       "      <td>Tuesday</td>\n",
       "      <td>December</td>\n",
       "      <td>24</td>\n",
       "    </tr>\n",
       "    <tr>\n",
       "      <th>2</th>\n",
       "      <td>6.450000</td>\n",
       "      <td>2020-12-01 00:14:49.361</td>\n",
       "      <td>2020-12-01 00:21:16.873</td>\n",
       "      <td>3640</td>\n",
       "      <td>Journal Square</td>\n",
       "      <td>40.733670</td>\n",
       "      <td>-74.062500</td>\n",
       "      <td>3194</td>\n",
       "      <td>McGinley Square</td>\n",
       "      <td>40.725340</td>\n",
       "      <td>-74.067622</td>\n",
       "      <td>44543</td>\n",
       "      <td>Subscriber</td>\n",
       "      <td>1960</td>\n",
       "      <td>1</td>\n",
       "      <td>00</td>\n",
       "      <td>Tuesday</td>\n",
       "      <td>December</td>\n",
       "      <td>61</td>\n",
       "    </tr>\n",
       "    <tr>\n",
       "      <th>3</th>\n",
       "      <td>3.133333</td>\n",
       "      <td>2020-12-01 00:45:06.368</td>\n",
       "      <td>2020-12-01 00:48:14.428</td>\n",
       "      <td>3186</td>\n",
       "      <td>Grove St PATH</td>\n",
       "      <td>40.719586</td>\n",
       "      <td>-74.043117</td>\n",
       "      <td>3270</td>\n",
       "      <td>Jersey &amp; 6th St</td>\n",
       "      <td>40.725289</td>\n",
       "      <td>-74.045572</td>\n",
       "      <td>43098</td>\n",
       "      <td>Subscriber</td>\n",
       "      <td>1998</td>\n",
       "      <td>1</td>\n",
       "      <td>00</td>\n",
       "      <td>Tuesday</td>\n",
       "      <td>December</td>\n",
       "      <td>23</td>\n",
       "    </tr>\n",
       "    <tr>\n",
       "      <th>4</th>\n",
       "      <td>9.900000</td>\n",
       "      <td>2020-12-01 01:17:17.011</td>\n",
       "      <td>2020-12-01 01:27:11.940</td>\n",
       "      <td>3212</td>\n",
       "      <td>Christ Hospital</td>\n",
       "      <td>40.734786</td>\n",
       "      <td>-74.050444</td>\n",
       "      <td>3209</td>\n",
       "      <td>Brunswick St</td>\n",
       "      <td>40.724176</td>\n",
       "      <td>-74.050656</td>\n",
       "      <td>44723</td>\n",
       "      <td>Subscriber</td>\n",
       "      <td>1988</td>\n",
       "      <td>1</td>\n",
       "      <td>01</td>\n",
       "      <td>Tuesday</td>\n",
       "      <td>December</td>\n",
       "      <td>33</td>\n",
       "    </tr>\n",
       "  </tbody>\n",
       "</table>\n",
       "</div>"
      ],
      "text/plain": [
       "   tripduration               starttime                stoptime  \\\n",
       "0      2.433333 2020-12-01 00:02:50.145 2020-12-01 00:05:16.194   \n",
       "1      9.533333 2020-12-01 00:11:57.391 2020-12-01 00:21:30.251   \n",
       "2      6.450000 2020-12-01 00:14:49.361 2020-12-01 00:21:16.873   \n",
       "3      3.133333 2020-12-01 00:45:06.368 2020-12-01 00:48:14.428   \n",
       "4      9.900000 2020-12-01 01:17:17.011 2020-12-01 01:27:11.940   \n",
       "\n",
       "   start station id start station name  start station latitude  \\\n",
       "0              3202       Newport PATH               40.727224   \n",
       "1              3640     Journal Square               40.733670   \n",
       "2              3640     Journal Square               40.733670   \n",
       "3              3186      Grove St PATH               40.719586   \n",
       "4              3212    Christ Hospital               40.734786   \n",
       "\n",
       "   start station longitude  end station id end station name  \\\n",
       "0               -74.033759            3199     Newport Pkwy   \n",
       "1               -74.062500            3280      Astor Place   \n",
       "2               -74.062500            3194  McGinley Square   \n",
       "3               -74.043117            3270  Jersey & 6th St   \n",
       "4               -74.050444            3209     Brunswick St   \n",
       "\n",
       "   end station latitude  end station longitude  bikeid    usertype  \\\n",
       "0             40.728745             -74.032108   42308  Subscriber   \n",
       "1             40.719282             -74.071262   18568  Subscriber   \n",
       "2             40.725340             -74.067622   44543  Subscriber   \n",
       "3             40.725289             -74.045572   43098  Subscriber   \n",
       "4             40.724176             -74.050656   44723  Subscriber   \n",
       "\n",
       "   birth year gender start_hourofday start_day start_month  user_age  \n",
       "0        1989      2              00   Tuesday    December        32  \n",
       "1        1997      2              00   Tuesday    December        24  \n",
       "2        1960      1              00   Tuesday    December        61  \n",
       "3        1998      1              00   Tuesday    December        23  \n",
       "4        1988      1              01   Tuesday    December        33  "
      ]
     },
     "execution_count": 23,
     "metadata": {},
     "output_type": "execute_result"
    }
   ],
   "source": [
    "df2.head()"
   ]
  },
  {
   "cell_type": "code",
   "execution_count": 24,
   "metadata": {},
   "outputs": [],
   "source": [
    "# save the clean data to a .csv file\n",
    "\n",
    "df.to_csv(r'C:\\Users\\speed link\\Desktop\\project 3\\project C\\fordgobike_trips_2020.csv', index=False)"
   ]
  },
  {
   "cell_type": "markdown",
   "metadata": {},
   "source": [
    "### What is the structure of your dataset?\n",
    "\n",
    "> tripduration : how long the trip took in seconds \n",
    "> starttime : from it we extract the start hour , day and mounth \n",
    "> sation info : as name and id \n",
    ">user info : as gneder and age which we extract it from the birth year \n",
    ">usertype as a Subscriber to the system or Customer\n",
    "### What is/are the main feature(s) of interest in your dataset?\n",
    "\n",
    "> trip durtion and the it is realtionship to specific day , hour , the type of user , age ,station , and gender \n",
    "> \n",
    "\n",
    "### What features in the dataset do you think will help support your investigation into your feature(s) of interest?\n",
    "\n",
    "> user info \n",
    "> ride info (time wise)\n"
   ]
  },
  {
   "cell_type": "markdown",
   "metadata": {},
   "source": [
    "## Univariate Exploration\n",
    "\n",
    "> In this section, investigate distributions of individual variables. If\n",
    "you see unusual points or outliers, take a deeper look to clean things up\n",
    "and prepare yourself to look at relationships between variables."
   ]
  },
  {
   "cell_type": "code",
   "execution_count": 25,
   "metadata": {},
   "outputs": [
    {
     "data": {
      "image/png": "[encoded data removed]",
      "text/plain": [
       "<Figure size 576x432 with 1 Axes>"
      ]
     },
     "metadata": {
      "needs_background": "light"
     },
     "output_type": "display_data"
    }
   ],
   "source": [
    "# lets plot the age to undersatnd beeter our range of the users \n",
    "plt.figure(figsize = [8, 6])\n",
    "chart=sb.set_palette(\"pastel\")\n",
    "chart=sb.boxplot(data=df2, x='user_age');\n",
    "plt.suptitle('age distribution', fontsize=18);\n"
   ]
  },
  {
   "cell_type": "markdown",
   "metadata": {},
   "source": [
    " we can see that we have no outliers and the majourity of our data is in 32:53 range (approximitly) , the age medin is in 38 (approximity\n"
   ]
  },
  {
   "cell_type": "code",
   "execution_count": 26,
   "metadata": {},
   "outputs": [
    {
     "data": {
      "image/png": "[encoded data removed]",
      "text/plain": [
       "<Figure size 432x288 with 1 Axes>"
      ]
     },
     "metadata": {
      "needs_background": "light"
     },
     "output_type": "display_data"
    }
   ],
   "source": [
    "# lets look at the age again using hisgram \n",
    "plt.hist(data=df2, x='user_age')\n",
    "plt.xlabel('age');\n",
    "plt.xlabel('frequancy');\n",
    "plt.suptitle('age distribution', fontsize=18);"
   ]
  },
  {
   "cell_type": "markdown",
   "metadata": {},
   "source": [
    " we can see that the majourity of the user are in 30 :33 range and also in 53 :58"
   ]
  },
  {
   "cell_type": "code",
   "execution_count": 27,
   "metadata": {},
   "outputs": [
    {
     "data": {
      "image/png": "[encoded data removed]",
      "text/plain": [
       "<Figure size 576x432 with 1 Axes>"
      ]
     },
     "metadata": {
      "needs_background": "light"
     },
     "output_type": "display_data"
    }
   ],
   "source": [
    "# lets plot the gender \n",
    "plt.figure(figsize=(8,6))\n",
    "chart = sb.countplot(data=df2,x='gender',palette='Set1')\n",
    "chart.set_xticklabels(['other','male','female'])\n",
    "plt.suptitle('gender Count', fontsize=18);"
   ]
  },
  {
   "cell_type": "markdown",
   "metadata": {},
   "source": [
    "we can see that the majourty of the users are male "
   ]
  },
  {
   "cell_type": "code",
   "execution_count": 28,
   "metadata": {},
   "outputs": [
    {
     "data": {
      "image/png": "[encoded data removed]",
      "text/plain": [
       "<Figure size 432x288 with 1 Axes>"
      ]
     },
     "metadata": {},
     "output_type": "display_data"
    }
   ],
   "source": [
    "# lets look into the gnder percentage \n",
    "sorted_vals = df2['gender'].value_counts()/df2.shape[0];\n",
    "plt.pie(sorted_vals, labels=['male','female','other',], autopct='%1.1f%%',normalize=False);\n",
    "plt.axis('square')\n",
    "plt.title('Gender percentage')\n",
    "plt.show()"
   ]
  },
  {
   "cell_type": "markdown",
   "metadata": {},
   "source": [
    "we can see that males are tha majourity with 66.4 % then female with 22 % "
   ]
  },
  {
   "cell_type": "code",
   "execution_count": 29,
   "metadata": {},
   "outputs": [
    {
     "data": {
      "image/png": "[encoded data removed]",
      "text/plain": [
       "<Figure size 576x432 with 1 Axes>"
      ]
     },
     "metadata": {
      "needs_background": "light"
     },
     "output_type": "display_data"
    }
   ],
   "source": [
    "# lets  plot user type \n",
    "plt.figure(figsize=(8,6))\n",
    "chart = sb.countplot(data=df2,x='usertype',palette='Set2')\n",
    "plt.suptitle('customer vs subscriber', fontsize=18);"
   ]
  },
  {
   "cell_type": "markdown",
   "metadata": {},
   "source": [
    "we can see that the majourity of the user are  subscriber "
   ]
  },
  {
   "cell_type": "code",
   "execution_count": 30,
   "metadata": {},
   "outputs": [
    {
     "data": {
      "image/png": "[encoded data removed]",
      "text/plain": [
       "<Figure size 432x288 with 1 Axes>"
      ]
     },
     "metadata": {},
     "output_type": "display_data"
    }
   ],
   "source": [
    "# lets look into the percentage \n",
    "sorted_vals = df2['usertype'].value_counts()/df2.shape[0];\n",
    "plt.pie(sorted_vals, labels=['subscriber','Customer'], autopct='%1.1f%%',normalize=False);\n",
    "plt.axis('square')\n",
    "plt.title('user type percentage')\n",
    "plt.show()"
   ]
  },
  {
   "cell_type": "markdown",
   "metadata": {},
   "source": [
    "we can see that the subscriber are indeed the majority of the users"
   ]
  },
  {
   "cell_type": "code",
   "execution_count": 31,
   "metadata": {},
   "outputs": [
    {
     "data": {
      "text/plain": [
       "Text(0.5, 0.98, ' Trip duration distribution')"
      ]
     },
     "execution_count": 31,
     "metadata": {},
     "output_type": "execute_result"
    },
    {
     "data": {
      "image/png": "[encoded data removed]",
      "text/plain": [
       "<Figure size 432x288 with 1 Axes>"
      ]
     },
     "metadata": {
      "needs_background": "light"
     },
     "output_type": "display_data"
    }
   ],
   "source": [
    "bins = np.arange(0, 70, 1)\n",
    "ticks = np.arange(0, 70, 5)\n",
    "sb.histplot(data=df2, x=\"tripduration\", bins=bins ,palette='Set2')\n",
    "plt.xlabel('Trip Duration in Minute');\n",
    "plt.suptitle(' Trip duration distribution',fontsize=18)"
   ]
  },
  {
   "cell_type": "markdown",
   "metadata": {},
   "source": [
    "we can see that most of the trips tend to be less than 10 mins and it is so rarely to go over 1 hour "
   ]
  },
  {
   "cell_type": "code",
   "execution_count": 32,
   "metadata": {},
   "outputs": [
    {
     "data": {
      "text/plain": [
       "Grove St PATH                 776\n",
       "Newport Pkwy                  721\n",
       "Sip Ave                       607\n",
       "Marin Light Rail              489\n",
       "Hamilton Park                 445\n",
       "Harborside                    391\n",
       "Warren St                     385\n",
       "JC Medical Center             374\n",
       "Newport PATH                  355\n",
       "City Hall                     352\n",
       "Washington St                 350\n",
       "Columbus Dr at Exchange Pl    343\n",
       "Morris Canal                  315\n",
       "Liberty Light Rail            300\n",
       "Brunswick St                  284\n",
       "Columbus Drive                256\n",
       "Jersey & 3rd                  254\n",
       "Manila & 1st                  246\n",
       "Brunswick & 6th               239\n",
       "Jersey & 6th St               235\n",
       "Van Vorst Park                232\n",
       "Baldwin at Montgomery         232\n",
       "Newark Ave                    232\n",
       "Paulus Hook                   227\n",
       "McGinley Square               222\n",
       "Grand St                      218\n",
       "Fairmount Ave                 215\n",
       "Dixon Mills                   176\n",
       "Pershing Field                158\n",
       "Essex Light Rail              154\n",
       "Lafayette Park                152\n",
       "Astor Place                   150\n",
       "Montgomery St                 142\n",
       "Journal Square                134\n",
       "Monmouth and 6th              131\n",
       "Bergen Ave                    121\n",
       "York St                       112\n",
       "Hilltop                       112\n",
       "Hoboken Ave at Monmouth St     98\n",
       "Lincoln Park                   98\n",
       "Glenwood Ave                   96\n",
       "Heights Elevator               85\n",
       "Oakland Ave                    83\n",
       "Communipaw & Berry Lane        78\n",
       "Riverview Park                 70\n",
       "Christ Hospital                64\n",
       "5 Corners Library              52\n",
       "Jackson Square                 46\n",
       "Dey St                         39\n",
       "Union St                       32\n",
       "Leonard Gordon Park            16\n",
       "Name: start station name, dtype: int64"
      ]
     },
     "execution_count": 32,
     "metadata": {},
     "output_type": "execute_result"
    }
   ],
   "source": [
    "# lets plot start station name \n",
    "df2['start station name'].value_counts()"
   ]
  },
  {
   "cell_type": "code",
   "execution_count": 33,
   "metadata": {},
   "outputs": [
    {
     "data": {
      "text/plain": [
       "[Text(0, 0, '5 Corners Library'),\n",
       " Text(1, 0, 'Astor Place'),\n",
       " Text(2, 0, 'Baldwin at Montgomery'),\n",
       " Text(3, 0, 'Bergen Ave'),\n",
       " Text(4, 0, 'Brunswick & 6th'),\n",
       " Text(5, 0, 'Brunswick St'),\n",
       " Text(6, 0, 'Christ Hospital'),\n",
       " Text(7, 0, 'City Hall'),\n",
       " Text(8, 0, 'Columbus Dr at Exchange Pl'),\n",
       " Text(9, 0, 'Columbus Drive'),\n",
       " Text(10, 0, 'Communipaw & Berry Lane'),\n",
       " Text(11, 0, 'Dey St'),\n",
       " Text(12, 0, 'Dixon Mills'),\n",
       " Text(13, 0, 'Essex Light Rail'),\n",
       " Text(14, 0, 'Fairmount Ave'),\n",
       " Text(15, 0, 'Glenwood Ave'),\n",
       " Text(16, 0, 'Grand St'),\n",
       " Text(17, 0, 'Grove St PATH'),\n",
       " Text(18, 0, 'Hamilton Park'),\n",
       " Text(19, 0, 'Harborside'),\n",
       " Text(20, 0, 'Heights Elevator'),\n",
       " Text(21, 0, 'Hilltop'),\n",
       " Text(22, 0, 'Hoboken Ave at Monmouth St'),\n",
       " Text(23, 0, 'JC Medical Center'),\n",
       " Text(24, 0, 'Jackson Square'),\n",
       " Text(25, 0, 'Jersey & 3rd'),\n",
       " Text(26, 0, 'Jersey & 6th St'),\n",
       " Text(27, 0, 'Journal Square'),\n",
       " Text(28, 0, 'Lafayette Park'),\n",
       " Text(29, 0, 'Leonard Gordon Park'),\n",
       " Text(30, 0, 'Liberty Light Rail'),\n",
       " Text(31, 0, 'Lincoln Park'),\n",
       " Text(32, 0, 'Manila & 1st'),\n",
       " Text(33, 0, 'Marin Light Rail'),\n",
       " Text(34, 0, 'McGinley Square'),\n",
       " Text(35, 0, 'Monmouth and 6th'),\n",
       " Text(36, 0, 'Montgomery St'),\n",
       " Text(37, 0, 'Morris Canal'),\n",
       " Text(38, 0, 'Newark Ave'),\n",
       " Text(39, 0, 'Newport PATH'),\n",
       " Text(40, 0, 'Newport Pkwy'),\n",
       " Text(41, 0, 'Oakland Ave'),\n",
       " Text(42, 0, 'Paulus Hook'),\n",
       " Text(43, 0, 'Pershing Field'),\n",
       " Text(44, 0, 'Riverview Park'),\n",
       " Text(45, 0, 'Sip Ave'),\n",
       " Text(46, 0, 'Union St'),\n",
       " Text(47, 0, 'Van Vorst Park'),\n",
       " Text(48, 0, 'Warren St'),\n",
       " Text(49, 0, 'Washington St'),\n",
       " Text(50, 0, 'York St')]"
      ]
     },
     "execution_count": 33,
     "metadata": {},
     "output_type": "execute_result"
    },
    {
     "data": {
      "image/png": "[encoded data removed]",
      "text/plain": [
       "<Figure size 1440x1296 with 1 Axes>"
      ]
     },
     "metadata": {
      "needs_background": "light"
     },
     "output_type": "display_data"
    }
   ],
   "source": [
    "plt.figure(figsize=(20,18))\n",
    "chart = sb.countplot(data=df2,x='start station name',palette='Set2')\n",
    "plt.suptitle('start station distribution', fontsize=18);\n",
    "chart.set_xticklabels(chart.get_xticklabels(), rotation=90)"
   ]
  },
  {
   "cell_type": "markdown",
   "metadata": {},
   "source": [
    " we can see that Grove St PATH and Newport Pkwy are the cities that most of the trips start from and Leonard Gordon Park  is the least city that trips start from it "
   ]
  },
  {
   "cell_type": "code",
   "execution_count": 34,
   "metadata": {},
   "outputs": [
    {
     "data": {
      "image/png": "[encoded data removed]",
      "text/plain": [
       "<Figure size 720x576 with 1 Axes>"
      ]
     },
     "metadata": {
      "needs_background": "light"
     },
     "output_type": "display_data"
    }
   ],
   "source": [
    "# lets plot the days of the trip \n",
    "plt.figure(figsize=(10,8))\n",
    "chart = sb.countplot(data=df2,x='start_day',palette='Set2')\n",
    "plt.suptitle('trip distribution over week', fontsize=18);\n"
   ]
  },
  {
   "cell_type": "markdown",
   "metadata": {},
   "source": [
    "we can see that the majourity of user uses the system on tuesday \n",
    " but it is intersted to find that even monday is a work day even if it will be from home due to quarantine is still the least busy day in addtion to friday and satruday which are weekends\n",
    " we can be sure we cannot be certan that tueday and wednesday pepole use the system to go to work cuase most buesness worked from home , but it may also be a suervies busness which will recure offline work or somthing "
   ]
  },
  {
   "cell_type": "code",
   "execution_count": 35,
   "metadata": {},
   "outputs": [
    {
     "data": {
      "image/png": "[encoded data removed]",
      "text/plain": [
       "<Figure size 720x576 with 1 Axes>"
      ]
     },
     "metadata": {
      "needs_background": "light"
     },
     "output_type": "display_data"
    }
   ],
   "source": [
    "# lets plot the hours of the day to lear more about the user habits \n",
    "plt.figure(figsize=(10,8))\n",
    "chart = sb.countplot(data=df2,x='start_hourofday',palette='Set2')\n",
    "plt.suptitle('trip distribution over the day', fontsize=18);\n"
   ]
  },
  {
   "cell_type": "markdown",
   "metadata": {},
   "source": [
    " that is really intersting ! we can see that the users of the system use it the most from 12 : 15 pm which is not tybical work hours \n",
    " so may say that the biggest case of the rides not necessary to work and maybe users in fact work from home in that year "
   ]
  },
  {
   "cell_type": "code",
   "execution_count": 36,
   "metadata": {},
   "outputs": [
    {
     "data": {
      "image/png": "[encoded data removed]",
      "text/plain": [
       "<Figure size 720x576 with 1 Axes>"
      ]
     },
     "metadata": {
      "needs_background": "light"
     },
     "output_type": "display_data"
    }
   ],
   "source": [
    "# lets plot the months \n",
    "plt.figure(figsize=(10,8))\n",
    "chart = sb.countplot(data=df2,x='start_month',palette='Set2')\n",
    "plt.suptitle('trip distribution over the ', fontsize=18);\n"
   ]
  },
  {
   "cell_type": "markdown",
   "metadata": {},
   "source": [
    "wow that a fascinating result ! it crealy shows us that user in fact were quarantined for the enter year ! expect for december in which the restrictions become less stric "
   ]
  },
  {
   "cell_type": "code",
   "execution_count": 37,
   "metadata": {},
   "outputs": [
    {
     "data": {
      "text/plain": [
       "December     11694\n",
       "November         0\n",
       "October          0\n",
       "September        0\n",
       "August           0\n",
       "July             0\n",
       "June             0\n",
       "May              0\n",
       "April            0\n",
       "March            0\n",
       "February         0\n",
       "January          0\n",
       "Name: start_month, dtype: int64"
      ]
     },
     "execution_count": 37,
     "metadata": {},
     "output_type": "execute_result"
    }
   ],
   "source": [
    "# to make sure \n",
    "df2['start_month'].value_counts()"
   ]
  },
  {
   "cell_type": "markdown",
   "metadata": {},
   "source": [
    "### Discuss the distribution(s) of your variable(s) of interest. Were there any unusual points? Did you need to perform any transformations?\n",
    "> we find that the majourty of users are males \n",
    "> the subscribed user are more than customers \n",
    "> trips dauration are short less than 10 min so user didnot spend much time outside \n",
    "> we trasfoirm birth year to age by subtract 2021 from it\n",
    "> befor ploting our date info we needed to conver day, month to cotigorical \n",
    "> we also conver the gnder to catigorical\n",
    "\n",
    "### Of the features you investigated, were there any unusual distributions? Did you perform any operations on the data to tidy, adjust, or change the form of the data? If so, why did you do this?\n",
    "> we find that the busiest houres of the system were past 12 pm which may indacte that user in fact work from home if before quraitne their work start normaily at 6 am \n",
    ">we also find that all of this year (2020) rides happend in December only which can mean that users in fact recpect the qurainte restrictions"
   ]
  },
  {
   "cell_type": "markdown",
   "metadata": {},
   "source": [
    "## Bivariate Exploration\n",
    "\n",
    "> In this section, investigate relationships between pairs of variables in your\n",
    "data. Make sure the variables that you cover here have been introduced in some\n",
    "fashion in the previous section (univariate exploration)."
   ]
  },
  {
   "cell_type": "code",
   "execution_count": 38,
   "metadata": {},
   "outputs": [
    {
     "data": {
      "image/png": "[encoded data removed]",
      "text/plain": [
       "<Figure size 432x288 with 1 Axes>"
      ]
     },
     "metadata": {
      "needs_background": "light"
     },
     "output_type": "display_data"
    }
   ],
   "source": [
    "sb.boxplot(data=df2, x='usertype', y='user_age',palette='Set2' );\n",
    "plt.xlabel('User Type');\n",
    "plt.ylabel('Member Age');\n",
    "plt.suptitle('user type vs user age  ', fontsize=18,);"
   ]
  },
  {
   "cell_type": "code",
   "execution_count": 39,
   "metadata": {},
   "outputs": [],
   "source": [
    "# we can see that customer has wider IQR than the subscriber and also the subscruber type has outliers above 65 years "
   ]
  },
  {
   "cell_type": "code",
   "execution_count": 40,
   "metadata": {},
   "outputs": [
    {
     "data": {
      "image/png": "[encoded data removed]",
      "text/plain": [
       "<Figure size 432x288 with 1 Axes>"
      ]
     },
     "metadata": {
      "needs_background": "light"
     },
     "output_type": "display_data"
    }
   ],
   "source": [
    "sb.boxplot(data=df2, x='start_hourofday', y='user_age');\n",
    "plt.xlabel('Day of Week');\n",
    "plt.ylabel('Member Age');\n",
    "plt.suptitle('Weekdays vs Member age ', y=1.05, fontsize=18, fontweight='semibold');"
   ]
  },
  {
   "cell_type": "markdown",
   "metadata": {},
   "source": [
    "we can see that the most constant hours of the day are from 11 : 17 pm and almost have the same age median as 35 \n",
    "user younger than 26 almost didnot use the system \n",
    "there are some outliyers we can see in 4 am , 0 am , 18 pm , 21 pm and the user are older than 50 so maybe they use the system as trip of relaxition "
   ]
  },
  {
   "cell_type": "code",
   "execution_count": 41,
   "metadata": {},
   "outputs": [
    {
     "data": {
      "image/png": "[encoded data removed]",
      "text/plain": [
       "<Figure size 432x288 with 1 Axes>"
      ]
     },
     "metadata": {
      "needs_background": "light"
     },
     "output_type": "display_data"
    }
   ],
   "source": [
    "# gender and usertype relationship\n",
    "chart=sb.histplot(binwidth=0.5, x=\"usertype\", hue=\"gender\", data=df2, stat=\"count\", multiple=\"stack\")\n",
    "plt.suptitle('user type vs gender ', y=1.05, fontsize=18, fontweight='semibold');"
   ]
  },
  {
   "cell_type": "markdown",
   "metadata": {},
   "source": [
    "we can see that the majourty of subscriber user are males (as 1 indacte males) but interstingly enogh the majourty of custmers chose not to spcify a gender "
   ]
  },
  {
   "cell_type": "code",
   "execution_count": 42,
   "metadata": {},
   "outputs": [
    {
     "data": {
      "image/png": "[encoded data removed]",
      "text/plain": [
       "<Figure size 432x288 with 1 Axes>"
      ]
     },
     "metadata": {
      "needs_background": "light"
     },
     "output_type": "display_data"
    }
   ],
   "source": [
    "chart=sb.countplot(data=df2, x='start_hourofday', hue='gender',palette='Set2');\n",
    "plt.xlabel('Hour of Day');\n",
    "plt.ylabel('Count');\n",
    "plt.suptitle('Hour of the day distrubtion by gender ' );\n"
   ]
  },
  {
   "cell_type": "markdown",
   "metadata": {},
   "source": [
    "we can see that males uses the system the most at 17 pm , female use it the most at 13 pm , other user use it the most in 13 pm too \n"
   ]
  },
  {
   "cell_type": "markdown",
   "metadata": {},
   "source": [
    "###  How did the feature(s) of interest vary with other features in the dataset?\n",
    "\n",
    "> we find that males represent the majourty of subscribed users\n",
    "> the busiest hours of the day for male users are from 13 pm to 19 comparing to earlier hours of the day\n",
    "> user at age from 35 :50 reprsent the majourity of the users throught the day hours \n",
    ">we find  that customer has wider age range than the subscriber and also the subscruber type has outliers above 65 years old\n",
    "### Did you observe any interesting relationships between the other features (not the main feature(s) of interest)?\n",
    "\n",
    "> we find that females are the second most customer after peple with no specic gender "
   ]
  },
  {
   "cell_type": "markdown",
   "metadata": {},
   "source": [
    "## Multivariate Exploration\n",
    "\n",
    "> Create plots of three or more variables to investigate your data even\n",
    "further. Make sure that your investigations are justified, and follow from\n",
    "your work in the previous sections."
   ]
  },
  {
   "cell_type": "code",
   "execution_count": 43,
   "metadata": {},
   "outputs": [
    {
     "data": {
      "image/png": "[encoded data removed]",
      "text/plain": [
       "<Figure size 432x288 with 2 Axes>"
      ]
     },
     "metadata": {
      "needs_background": "light"
     },
     "output_type": "display_data"
    }
   ],
   "source": [
    "# lets create a heatmap for start hours throgh the day , user type and user age \n",
    "heatmap1_data = pd.pivot_table(df2, values='user_age', index=['usertype'], columns='start_hourofday')\n",
    "chart=sb.heatmap(heatmap1_data, cmap=\"YlGnBu\")\n",
    "plt.title('heatmap between user age ,type and usage houres', loc='right');\n",
    "plt.xlabel('usage hours');\n"
   ]
  },
  {
   "cell_type": "markdown",
   "metadata": {},
   "source": [
    "we can see that the oldes users are in the custmore type and uses the system at 5 am then 12 am and interstingly enough that the youngest users are also in the csustomer type and uses the system in 3 am but boths of these point consider way too extreem \n",
    "but the majouritty of users in age from range 35:40 found more in the subscribe type and uses the system througt the day"
   ]
  },
  {
   "cell_type": "code",
   "execution_count": 44,
   "metadata": {},
   "outputs": [
    {
     "data": {
      "image/png": "[encoded data removed]",
      "text/plain": [
       "<Figure size 432x288 with 2 Axes>"
      ]
     },
     "metadata": {
      "needs_background": "light"
     },
     "output_type": "display_data"
    }
   ],
   "source": [
    "# lets create a heatmap for start hours throgh the day , user type and user age \n",
    "heatmap1_data = pd.pivot_table(df2, values='user_age', index=['gender'], columns='start_hourofday')\n",
    "chart=sb.heatmap(heatmap1_data, cmap=\"YlGnBu\")\n",
    "plt.title('heatmap between user age ,gnder and usage houres');\n",
    "plt.xlabel('usage hours');\n",
    "plt.ylabel('females          males            others'); \n"
   ]
  },
  {
   "cell_type": "markdown",
   "metadata": {},
   "source": [
    "we can see that the males have the age range from 35:44 and after 8 am are the most constant age range \"for the males\"\n",
    "the most extreem values occure in the others catigory \n",
    "the female have some extreem values too but not as the others \n"
   ]
  },
  {
   "cell_type": "code",
   "execution_count": 45,
   "metadata": {},
   "outputs": [
    {
     "data": {
      "image/png": "[encoded data removed]",
      "text/plain": [
       "<Figure size 432x288 with 1 Axes>"
      ]
     },
     "metadata": {
      "needs_background": "light"
     },
     "output_type": "display_data"
    }
   ],
   "source": [
    "chart=sb.pointplot(data=df2, x='start_hourofday', y='tripduration', hue='usertype', dodge=0.5, linestyles=\"\");\n",
    "plt.xlabel('hour of the day');\n",
    "chart.set_ylim([1, 20])\n",
    "plt.ylabel('Trip Duration in Minute');\n",
    "plt.suptitle('Hour of the day vs trip durtion divide by user type  ' );"
   ]
  },
  {
   "cell_type": "markdown",
   "metadata": {},
   "source": [
    " we can see that scbscribe users have longer trip duration around 11 : 16 ,\n",
    "customre users have longer trips in the rest time of the day "
   ]
  },
  {
   "cell_type": "markdown",
   "metadata": {},
   "source": [
    "### Talk about some of the relationships you observed in this part of the investigation. Were there features that strengthened each other in terms of looking at your feature(s) of interest?\n",
    "\n",
    "> we find that the majouritty of users in age from range 35:40 found more in the subscribe type and uses the system througt the day\n",
    ">we can see that the males have the age range from 35:44 and after 8 am are the most constant age range \"for the males\"\n",
    "the most extreem values occure in the others catigory \n",
    "the female have some extreem values too but not as the others \n",
    "> we can see that scbscribe users have longer trip duration around 11 : 16  and customre users have longer trips in the rest time of the day \n",
    "# customre have longer trips in the rest time of the day \n",
    "\n",
    "### Were there any interesting or surprising interactions between features?\n",
    "\n",
    "> the difference in the customer and subscribe habits throught the day and the variation of the trip duration "
   ]
  },
  {
   "cell_type": "markdown",
   "metadata": {},
   "source": [
    "## resorses \n",
    "-https://stackoverflow.com/questions/20906474/import-multiple-csv-files-into-pandas-and-concatenate-into-one-dataframe\n",
    "-https://stackabuse.com/ultimate-guide-to-heatmaps-in-seaborn-with-python\n",
    "-https://www.python-graph-gallery.com/\n",
    "-https://www.codegrepper.com/code-examples/python/seaborn+set_xticklabels\n",
    "-https://www.codecademy.com/articles/seaborn-design-ii\n",
    "-https://www.geeksforgeeks.org/python-pandas-categoricaldtype/"
   ]
  },
  {
   "cell_type": "code",
   "execution_count": null,
   "metadata": {},
   "outputs": [],
   "source": []
  }
 ],
 "metadata": {
  "kernelspec": {
   "display_name": "Python 3",
   "language": "python",
   "name": "python3"
  },
  "language_info": {
   "codemirror_mode": {
    "name": "ipython",
    "version": 3
   },
   "file_extension": ".py",
   "mimetype": "text/x-python",
   "name": "python",
   "nbconvert_exporter": "python",
   "pygments_lexer": "ipython3",
   "version": "3.8.5"
  }
 },
 "nbformat": 4,
 "nbformat_minor": 2
}
